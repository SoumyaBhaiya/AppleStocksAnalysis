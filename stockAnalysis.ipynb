{
 "cells": [
  {
   "cell_type": "code",
   "execution_count": 23,
   "id": "1b3e6f52",
   "metadata": {},
   "outputs": [],
   "source": [
    "import pandas as pd \n",
    "import numpy as np "
   ]
  },
  {
   "cell_type": "code",
   "execution_count": 24,
   "id": "b77d7ca0",
   "metadata": {},
   "outputs": [],
   "source": [
    "dataset = pd.read_csv(\"apple_5yr_one.csv\")"
   ]
  },
  {
   "cell_type": "code",
   "execution_count": 25,
   "id": "7c997964",
   "metadata": {},
   "outputs": [
    {
     "data": {
      "text/html": [
       "<div>\n",
       "<style scoped>\n",
       "    .dataframe tbody tr th:only-of-type {\n",
       "        vertical-align: middle;\n",
       "    }\n",
       "\n",
       "    .dataframe tbody tr th {\n",
       "        vertical-align: top;\n",
       "    }\n",
       "\n",
       "    .dataframe thead th {\n",
       "        text-align: right;\n",
       "    }\n",
       "</style>\n",
       "<table border=\"1\" class=\"dataframe\">\n",
       "  <thead>\n",
       "    <tr style=\"text-align: right;\">\n",
       "      <th></th>\n",
       "      <th>Date</th>\n",
       "      <th>Close</th>\n",
       "      <th>High</th>\n",
       "      <th>Low</th>\n",
       "      <th>Open</th>\n",
       "      <th>Volume</th>\n",
       "    </tr>\n",
       "  </thead>\n",
       "  <tbody>\n",
       "    <tr>\n",
       "      <th>0</th>\n",
       "      <td>NaN</td>\n",
       "      <td>AAPL</td>\n",
       "      <td>AAPL</td>\n",
       "      <td>AAPL</td>\n",
       "      <td>AAPL</td>\n",
       "      <td>AAPL</td>\n",
       "    </tr>\n",
       "    <tr>\n",
       "      <th>1</th>\n",
       "      <td>2020-06-04</td>\n",
       "      <td>78.32931518554688</td>\n",
       "      <td>79.1312690763083</td>\n",
       "      <td>77.95506657558614</td>\n",
       "      <td>78.83236263047952</td>\n",
       "      <td>87560400</td>\n",
       "    </tr>\n",
       "    <tr>\n",
       "      <th>2</th>\n",
       "      <td>2020-06-05</td>\n",
       "      <td>80.56021881103516</td>\n",
       "      <td>80.62097312386399</td>\n",
       "      <td>78.55046881252456</td>\n",
       "      <td>78.57962969607472</td>\n",
       "      <td>137250400</td>\n",
       "    </tr>\n",
       "    <tr>\n",
       "      <th>3</th>\n",
       "      <td>2020-06-08</td>\n",
       "      <td>81.03653717041016</td>\n",
       "      <td>81.07056314819836</td>\n",
       "      <td>79.54441498185327</td>\n",
       "      <td>80.25645380649277</td>\n",
       "      <td>95654400</td>\n",
       "    </tr>\n",
       "    <tr>\n",
       "      <th>4</th>\n",
       "      <td>2020-06-09</td>\n",
       "      <td>83.59550476074219</td>\n",
       "      <td>83.98919153470604</td>\n",
       "      <td>80.68416273702039</td>\n",
       "      <td>80.71575616737768</td>\n",
       "      <td>147712400</td>\n",
       "    </tr>\n",
       "    <tr>\n",
       "      <th>...</th>\n",
       "      <td>...</td>\n",
       "      <td>...</td>\n",
       "      <td>...</td>\n",
       "      <td>...</td>\n",
       "      <td>...</td>\n",
       "      <td>...</td>\n",
       "    </tr>\n",
       "    <tr>\n",
       "      <th>1251</th>\n",
       "      <td>2025-05-27</td>\n",
       "      <td>200.2100067138672</td>\n",
       "      <td>200.74000549316406</td>\n",
       "      <td>197.42999267578125</td>\n",
       "      <td>198.3000030517578</td>\n",
       "      <td>56288500</td>\n",
       "    </tr>\n",
       "    <tr>\n",
       "      <th>1252</th>\n",
       "      <td>2025-05-28</td>\n",
       "      <td>200.4199981689453</td>\n",
       "      <td>202.72999572753906</td>\n",
       "      <td>199.89999389648438</td>\n",
       "      <td>200.58999633789062</td>\n",
       "      <td>45339700</td>\n",
       "    </tr>\n",
       "    <tr>\n",
       "      <th>1253</th>\n",
       "      <td>2025-05-29</td>\n",
       "      <td>199.9499969482422</td>\n",
       "      <td>203.80999755859375</td>\n",
       "      <td>198.50999450683594</td>\n",
       "      <td>203.5800018310547</td>\n",
       "      <td>51396800</td>\n",
       "    </tr>\n",
       "    <tr>\n",
       "      <th>1254</th>\n",
       "      <td>2025-05-30</td>\n",
       "      <td>200.85000610351562</td>\n",
       "      <td>201.9600067138672</td>\n",
       "      <td>196.77999877929688</td>\n",
       "      <td>199.3699951171875</td>\n",
       "      <td>70819900</td>\n",
       "    </tr>\n",
       "    <tr>\n",
       "      <th>1255</th>\n",
       "      <td>2025-06-02</td>\n",
       "      <td>201.6999969482422</td>\n",
       "      <td>202.1300048828125</td>\n",
       "      <td>200.1199951171875</td>\n",
       "      <td>200.27999877929688</td>\n",
       "      <td>35343100</td>\n",
       "    </tr>\n",
       "  </tbody>\n",
       "</table>\n",
       "<p>1256 rows × 6 columns</p>\n",
       "</div>"
      ],
      "text/plain": [
       "            Date               Close                High                 Low  \\\n",
       "0            NaN                AAPL                AAPL                AAPL   \n",
       "1     2020-06-04   78.32931518554688    79.1312690763083   77.95506657558614   \n",
       "2     2020-06-05   80.56021881103516   80.62097312386399   78.55046881252456   \n",
       "3     2020-06-08   81.03653717041016   81.07056314819836   79.54441498185327   \n",
       "4     2020-06-09   83.59550476074219   83.98919153470604   80.68416273702039   \n",
       "...          ...                 ...                 ...                 ...   \n",
       "1251  2025-05-27   200.2100067138672  200.74000549316406  197.42999267578125   \n",
       "1252  2025-05-28   200.4199981689453  202.72999572753906  199.89999389648438   \n",
       "1253  2025-05-29   199.9499969482422  203.80999755859375  198.50999450683594   \n",
       "1254  2025-05-30  200.85000610351562   201.9600067138672  196.77999877929688   \n",
       "1255  2025-06-02   201.6999969482422   202.1300048828125   200.1199951171875   \n",
       "\n",
       "                    Open     Volume  \n",
       "0                   AAPL       AAPL  \n",
       "1      78.83236263047952   87560400  \n",
       "2      78.57962969607472  137250400  \n",
       "3      80.25645380649277   95654400  \n",
       "4      80.71575616737768  147712400  \n",
       "...                  ...        ...  \n",
       "1251   198.3000030517578   56288500  \n",
       "1252  200.58999633789062   45339700  \n",
       "1253   203.5800018310547   51396800  \n",
       "1254   199.3699951171875   70819900  \n",
       "1255  200.27999877929688   35343100  \n",
       "\n",
       "[1256 rows x 6 columns]"
      ]
     },
     "execution_count": 25,
     "metadata": {},
     "output_type": "execute_result"
    }
   ],
   "source": [
    "dataset"
   ]
  },
  {
   "cell_type": "code",
   "execution_count": 26,
   "id": "bbb004eb",
   "metadata": {},
   "outputs": [
    {
     "name": "stdout",
     "output_type": "stream",
     "text": [
      "<class 'pandas.core.frame.DataFrame'>\n",
      "RangeIndex: 1256 entries, 0 to 1255\n",
      "Data columns (total 6 columns):\n",
      " #   Column  Non-Null Count  Dtype \n",
      "---  ------  --------------  ----- \n",
      " 0   Date    1255 non-null   object\n",
      " 1   Close   1256 non-null   object\n",
      " 2   High    1256 non-null   object\n",
      " 3   Low     1256 non-null   object\n",
      " 4   Open    1256 non-null   object\n",
      " 5   Volume  1256 non-null   object\n",
      "dtypes: object(6)\n",
      "memory usage: 59.0+ KB\n"
     ]
    }
   ],
   "source": [
    "dataset.info()"
   ]
  },
  {
   "cell_type": "code",
   "execution_count": 27,
   "id": "176d22d8",
   "metadata": {},
   "outputs": [
    {
     "data": {
      "text/html": [
       "<div>\n",
       "<style scoped>\n",
       "    .dataframe tbody tr th:only-of-type {\n",
       "        vertical-align: middle;\n",
       "    }\n",
       "\n",
       "    .dataframe tbody tr th {\n",
       "        vertical-align: top;\n",
       "    }\n",
       "\n",
       "    .dataframe thead th {\n",
       "        text-align: right;\n",
       "    }\n",
       "</style>\n",
       "<table border=\"1\" class=\"dataframe\">\n",
       "  <thead>\n",
       "    <tr style=\"text-align: right;\">\n",
       "      <th></th>\n",
       "      <th>Date</th>\n",
       "      <th>Close</th>\n",
       "      <th>High</th>\n",
       "      <th>Low</th>\n",
       "      <th>Open</th>\n",
       "      <th>Volume</th>\n",
       "    </tr>\n",
       "  </thead>\n",
       "  <tbody>\n",
       "    <tr>\n",
       "      <th>count</th>\n",
       "      <td>1255</td>\n",
       "      <td>1256</td>\n",
       "      <td>1256</td>\n",
       "      <td>1256</td>\n",
       "      <td>1256</td>\n",
       "      <td>1256</td>\n",
       "    </tr>\n",
       "    <tr>\n",
       "      <th>unique</th>\n",
       "      <td>1255</td>\n",
       "      <td>1241</td>\n",
       "      <td>1256</td>\n",
       "      <td>1256</td>\n",
       "      <td>1256</td>\n",
       "      <td>1254</td>\n",
       "    </tr>\n",
       "    <tr>\n",
       "      <th>top</th>\n",
       "      <td>2020-06-04</td>\n",
       "      <td>142.5260467529297</td>\n",
       "      <td>AAPL</td>\n",
       "      <td>AAPL</td>\n",
       "      <td>AAPL</td>\n",
       "      <td>90956700</td>\n",
       "    </tr>\n",
       "    <tr>\n",
       "      <th>freq</th>\n",
       "      <td>1</td>\n",
       "      <td>2</td>\n",
       "      <td>1</td>\n",
       "      <td>1</td>\n",
       "      <td>1</td>\n",
       "      <td>2</td>\n",
       "    </tr>\n",
       "  </tbody>\n",
       "</table>\n",
       "</div>"
      ],
      "text/plain": [
       "              Date              Close  High   Low  Open    Volume\n",
       "count         1255               1256  1256  1256  1256      1256\n",
       "unique        1255               1241  1256  1256  1256      1254\n",
       "top     2020-06-04  142.5260467529297  AAPL  AAPL  AAPL  90956700\n",
       "freq             1                  2     1     1     1         2"
      ]
     },
     "execution_count": 27,
     "metadata": {},
     "output_type": "execute_result"
    }
   ],
   "source": [
    "dataset.describe()"
   ]
  },
  {
   "cell_type": "code",
   "execution_count": 28,
   "id": "1551f5c4",
   "metadata": {},
   "outputs": [],
   "source": [
    "dataset = dataset.dropna()"
   ]
  },
  {
   "cell_type": "code",
   "execution_count": 29,
   "id": "051ebaa9",
   "metadata": {},
   "outputs": [],
   "source": [
    "import matplotlib.pyplot as plt "
   ]
  },
  {
   "cell_type": "code",
   "execution_count": 30,
   "id": "842a0d2f",
   "metadata": {},
   "outputs": [
    {
     "data": {
      "text/html": [
       "<div>\n",
       "<style scoped>\n",
       "    .dataframe tbody tr th:only-of-type {\n",
       "        vertical-align: middle;\n",
       "    }\n",
       "\n",
       "    .dataframe tbody tr th {\n",
       "        vertical-align: top;\n",
       "    }\n",
       "\n",
       "    .dataframe thead th {\n",
       "        text-align: right;\n",
       "    }\n",
       "</style>\n",
       "<table border=\"1\" class=\"dataframe\">\n",
       "  <thead>\n",
       "    <tr style=\"text-align: right;\">\n",
       "      <th></th>\n",
       "      <th>Date</th>\n",
       "      <th>Close</th>\n",
       "      <th>High</th>\n",
       "      <th>Low</th>\n",
       "      <th>Open</th>\n",
       "      <th>Volume</th>\n",
       "    </tr>\n",
       "  </thead>\n",
       "  <tbody>\n",
       "    <tr>\n",
       "      <th>1</th>\n",
       "      <td>2020-06-04</td>\n",
       "      <td>78.32931518554688</td>\n",
       "      <td>79.1312690763083</td>\n",
       "      <td>77.95506657558614</td>\n",
       "      <td>78.83236263047952</td>\n",
       "      <td>87560400</td>\n",
       "    </tr>\n",
       "    <tr>\n",
       "      <th>2</th>\n",
       "      <td>2020-06-05</td>\n",
       "      <td>80.56021881103516</td>\n",
       "      <td>80.62097312386399</td>\n",
       "      <td>78.55046881252456</td>\n",
       "      <td>78.57962969607472</td>\n",
       "      <td>137250400</td>\n",
       "    </tr>\n",
       "    <tr>\n",
       "      <th>3</th>\n",
       "      <td>2020-06-08</td>\n",
       "      <td>81.03653717041016</td>\n",
       "      <td>81.07056314819836</td>\n",
       "      <td>79.54441498185327</td>\n",
       "      <td>80.25645380649277</td>\n",
       "      <td>95654400</td>\n",
       "    </tr>\n",
       "    <tr>\n",
       "      <th>4</th>\n",
       "      <td>2020-06-09</td>\n",
       "      <td>83.59550476074219</td>\n",
       "      <td>83.98919153470604</td>\n",
       "      <td>80.68416273702039</td>\n",
       "      <td>80.71575616737768</td>\n",
       "      <td>147712400</td>\n",
       "    </tr>\n",
       "    <tr>\n",
       "      <th>5</th>\n",
       "      <td>2020-06-10</td>\n",
       "      <td>85.74620819091797</td>\n",
       "      <td>86.21522971767824</td>\n",
       "      <td>84.1058417038533</td>\n",
       "      <td>84.54570234634012</td>\n",
       "      <td>166651600</td>\n",
       "    </tr>\n",
       "  </tbody>\n",
       "</table>\n",
       "</div>"
      ],
      "text/plain": [
       "         Date              Close               High                Low  \\\n",
       "1  2020-06-04  78.32931518554688   79.1312690763083  77.95506657558614   \n",
       "2  2020-06-05  80.56021881103516  80.62097312386399  78.55046881252456   \n",
       "3  2020-06-08  81.03653717041016  81.07056314819836  79.54441498185327   \n",
       "4  2020-06-09  83.59550476074219  83.98919153470604  80.68416273702039   \n",
       "5  2020-06-10  85.74620819091797  86.21522971767824   84.1058417038533   \n",
       "\n",
       "                Open     Volume  \n",
       "1  78.83236263047952   87560400  \n",
       "2  78.57962969607472  137250400  \n",
       "3  80.25645380649277   95654400  \n",
       "4  80.71575616737768  147712400  \n",
       "5  84.54570234634012  166651600  "
      ]
     },
     "execution_count": 30,
     "metadata": {},
     "output_type": "execute_result"
    }
   ],
   "source": [
    "dataset.head() "
   ]
  },
  {
   "cell_type": "code",
   "execution_count": 31,
   "id": "6b6ee0f5",
   "metadata": {},
   "outputs": [],
   "source": [
    "x = dataset[\"Date\"]\n",
    "y = dataset[\"Close\"]"
   ]
  },
  {
   "cell_type": "code",
   "execution_count": 33,
   "id": "91bceb91",
   "metadata": {},
   "outputs": [
    {
     "data": {
      "text/plain": [
       "<matplotlib.collections.PathCollection at 0x217b65be930>"
      ]
     },
     "execution_count": 33,
     "metadata": {},
     "output_type": "execute_result"
    },
    {
     "data": {
      "image/png": "[encoded data removed]",
      "text/plain": [
       "<Figure size 640x480 with 1 Axes>"
      ]
     },
     "metadata": {},
     "output_type": "display_data"
    }
   ],
   "source": [
    "plt.scatter(x,y)"
   ]
  },
  {
   "cell_type": "code",
   "execution_count": null,
   "id": "78ff4f64",
   "metadata": {},
   "outputs": [],
   "source": []
  }
 ],
 "metadata": {
  "kernelspec": {
   "display_name": "Python 3",
   "language": "python",
   "name": "python3"
  },
  "language_info": {
   "codemirror_mode": {
    "name": "ipython",
    "version": 3
   },
   "file_extension": ".py",
   "mimetype": "text/x-python",
   "name": "python",
   "nbconvert_exporter": "python",
   "pygments_lexer": "ipython3",
   "version": "3.12.4"
  }
 },
 "nbformat": 4,
 "nbformat_minor": 5
}
