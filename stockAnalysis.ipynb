{
 "cells": [
  {
   "cell_type": "code",
   "execution_count": 40,
   "id": "1b3e6f52",
   "metadata": {},
   "outputs": [],
   "source": [
    "import pandas as pd \n",
    "import numpy as np "
   ]
  },
  {
   "cell_type": "code",
   "execution_count": 41,
   "id": "b77d7ca0",
   "metadata": {},
   "outputs": [],
   "source": [
    "dataset = pd.read_csv(\"apple_5yr_one.csv\")"
   ]
  },
  {
   "cell_type": "code",
   "execution_count": 42,
   "id": "3c235e67",
   "metadata": {},
   "outputs": [
    {
     "data": {
      "text/html": [
       "<div>\n",
       "<style scoped>\n",
       "    .dataframe tbody tr th:only-of-type {\n",
       "        vertical-align: middle;\n",
       "    }\n",
       "\n",
       "    .dataframe tbody tr th {\n",
       "        vertical-align: top;\n",
       "    }\n",
       "\n",
       "    .dataframe thead th {\n",
       "        text-align: right;\n",
       "    }\n",
       "</style>\n",
       "<table border=\"1\" class=\"dataframe\">\n",
       "  <thead>\n",
       "    <tr style=\"text-align: right;\">\n",
       "      <th></th>\n",
       "      <th>Date</th>\n",
       "      <th>Close</th>\n",
       "      <th>High</th>\n",
       "      <th>Low</th>\n",
       "      <th>Open</th>\n",
       "      <th>Volume</th>\n",
       "    </tr>\n",
       "  </thead>\n",
       "  <tbody>\n",
       "    <tr>\n",
       "      <th>0</th>\n",
       "      <td>NaN</td>\n",
       "      <td>AAPL</td>\n",
       "      <td>AAPL</td>\n",
       "      <td>AAPL</td>\n",
       "      <td>AAPL</td>\n",
       "      <td>AAPL</td>\n",
       "    </tr>\n",
       "    <tr>\n",
       "      <th>1</th>\n",
       "      <td>2020-06-04</td>\n",
       "      <td>78.32931518554688</td>\n",
       "      <td>79.1312690763083</td>\n",
       "      <td>77.95506657558614</td>\n",
       "      <td>78.83236263047952</td>\n",
       "      <td>87560400</td>\n",
       "    </tr>\n",
       "    <tr>\n",
       "      <th>2</th>\n",
       "      <td>2020-06-05</td>\n",
       "      <td>80.56021881103516</td>\n",
       "      <td>80.62097312386399</td>\n",
       "      <td>78.55046881252456</td>\n",
       "      <td>78.57962969607472</td>\n",
       "      <td>137250400</td>\n",
       "    </tr>\n",
       "    <tr>\n",
       "      <th>3</th>\n",
       "      <td>2020-06-08</td>\n",
       "      <td>81.03653717041016</td>\n",
       "      <td>81.07056314819836</td>\n",
       "      <td>79.54441498185327</td>\n",
       "      <td>80.25645380649277</td>\n",
       "      <td>95654400</td>\n",
       "    </tr>\n",
       "    <tr>\n",
       "      <th>4</th>\n",
       "      <td>2020-06-09</td>\n",
       "      <td>83.59550476074219</td>\n",
       "      <td>83.98919153470604</td>\n",
       "      <td>80.68416273702039</td>\n",
       "      <td>80.71575616737768</td>\n",
       "      <td>147712400</td>\n",
       "    </tr>\n",
       "  </tbody>\n",
       "</table>\n",
       "</div>"
      ],
      "text/plain": [
       "         Date              Close               High                Low  \\\n",
       "0         NaN               AAPL               AAPL               AAPL   \n",
       "1  2020-06-04  78.32931518554688   79.1312690763083  77.95506657558614   \n",
       "2  2020-06-05  80.56021881103516  80.62097312386399  78.55046881252456   \n",
       "3  2020-06-08  81.03653717041016  81.07056314819836  79.54441498185327   \n",
       "4  2020-06-09  83.59550476074219  83.98919153470604  80.68416273702039   \n",
       "\n",
       "                Open     Volume  \n",
       "0               AAPL       AAPL  \n",
       "1  78.83236263047952   87560400  \n",
       "2  78.57962969607472  137250400  \n",
       "3  80.25645380649277   95654400  \n",
       "4  80.71575616737768  147712400  "
      ]
     },
     "execution_count": 42,
     "metadata": {},
     "output_type": "execute_result"
    }
   ],
   "source": [
    "dataset.head()"
   ]
  },
  {
   "cell_type": "code",
   "execution_count": 43,
   "id": "41b39d0c",
   "metadata": {},
   "outputs": [],
   "source": [
    "dataset = dataset.drop(0)"
   ]
  },
  {
   "cell_type": "code",
   "execution_count": 44,
   "id": "f5ecb389",
   "metadata": {},
   "outputs": [
    {
     "data": {
      "text/plain": [
       "Date      object\n",
       "Close     object\n",
       "High      object\n",
       "Low       object\n",
       "Open      object\n",
       "Volume    object\n",
       "dtype: object"
      ]
     },
     "execution_count": 44,
     "metadata": {},
     "output_type": "execute_result"
    }
   ],
   "source": [
    "dataset.dtypes"
   ]
  },
  {
   "cell_type": "code",
   "execution_count": 45,
   "id": "8a5e9f93",
   "metadata": {},
   "outputs": [],
   "source": [
    "for col in ['Open', 'High', 'Low', 'Close', 'Volume']:\n",
    "    if col in dataset.columns:\n",
    "        dataset[col] = pd.to_numeric(dataset[col], errors='coerce')\n",
    "    else:\n",
    "        print(f\"Warning: Column '{col}' not found in dataset.\")"
   ]
  },
  {
   "cell_type": "code",
   "execution_count": 46,
   "id": "94c017c9",
   "metadata": {},
   "outputs": [],
   "source": [
    "dataset['High_Low'] = dataset['High'] - dataset['Low']\n",
    "dataset['Open_Close'] = dataset['Open'] - dataset['Close']\n",
    "dataset['Daily_Return'] = dataset['Close'].pct_change()\n",
    "dataset['Target'] = (dataset['Close'].shift(-1) > dataset['Close']).astype(int)  # 1 if price goes up next day\n",
    "\n",
    "dataset = dataset.dropna()"
   ]
  },
  {
   "cell_type": "code",
   "execution_count": 47,
   "id": "fa8cfd85",
   "metadata": {},
   "outputs": [],
   "source": [
    "dataset.set_index(\"Date\", inplace=True)"
   ]
  },
  {
   "cell_type": "code",
   "execution_count": 48,
   "id": "36e5b8d6",
   "metadata": {},
   "outputs": [
    {
     "data": {
      "text/html": [
       "<div>\n",
       "<style scoped>\n",
       "    .dataframe tbody tr th:only-of-type {\n",
       "        vertical-align: middle;\n",
       "    }\n",
       "\n",
       "    .dataframe tbody tr th {\n",
       "        vertical-align: top;\n",
       "    }\n",
       "\n",
       "    .dataframe thead th {\n",
       "        text-align: right;\n",
       "    }\n",
       "</style>\n",
       "<table border=\"1\" class=\"dataframe\">\n",
       "  <thead>\n",
       "    <tr style=\"text-align: right;\">\n",
       "      <th></th>\n",
       "      <th>Close</th>\n",
       "      <th>High</th>\n",
       "      <th>Low</th>\n",
       "      <th>Open</th>\n",
       "      <th>Volume</th>\n",
       "      <th>High_Low</th>\n",
       "      <th>Open_Close</th>\n",
       "      <th>Daily_Return</th>\n",
       "      <th>Target</th>\n",
       "    </tr>\n",
       "    <tr>\n",
       "      <th>Date</th>\n",
       "      <th></th>\n",
       "      <th></th>\n",
       "      <th></th>\n",
       "      <th></th>\n",
       "      <th></th>\n",
       "      <th></th>\n",
       "      <th></th>\n",
       "      <th></th>\n",
       "      <th></th>\n",
       "    </tr>\n",
       "  </thead>\n",
       "  <tbody>\n",
       "    <tr>\n",
       "      <th>2020-06-05</th>\n",
       "      <td>80.560219</td>\n",
       "      <td>80.620973</td>\n",
       "      <td>78.550469</td>\n",
       "      <td>78.579630</td>\n",
       "      <td>137250400</td>\n",
       "      <td>2.070504</td>\n",
       "      <td>-1.980589</td>\n",
       "      <td>0.028481</td>\n",
       "      <td>1</td>\n",
       "    </tr>\n",
       "    <tr>\n",
       "      <th>2020-06-08</th>\n",
       "      <td>81.036537</td>\n",
       "      <td>81.070563</td>\n",
       "      <td>79.544415</td>\n",
       "      <td>80.256454</td>\n",
       "      <td>95654400</td>\n",
       "      <td>1.526148</td>\n",
       "      <td>-0.780083</td>\n",
       "      <td>0.005913</td>\n",
       "      <td>1</td>\n",
       "    </tr>\n",
       "    <tr>\n",
       "      <th>2020-06-09</th>\n",
       "      <td>83.595505</td>\n",
       "      <td>83.989192</td>\n",
       "      <td>80.684163</td>\n",
       "      <td>80.715756</td>\n",
       "      <td>147712400</td>\n",
       "      <td>3.305029</td>\n",
       "      <td>-2.879749</td>\n",
       "      <td>0.031578</td>\n",
       "      <td>1</td>\n",
       "    </tr>\n",
       "    <tr>\n",
       "      <th>2020-06-10</th>\n",
       "      <td>85.746208</td>\n",
       "      <td>86.215230</td>\n",
       "      <td>84.105842</td>\n",
       "      <td>84.545702</td>\n",
       "      <td>166651600</td>\n",
       "      <td>2.109388</td>\n",
       "      <td>-1.200506</td>\n",
       "      <td>0.025728</td>\n",
       "      <td>0</td>\n",
       "    </tr>\n",
       "    <tr>\n",
       "      <th>2020-06-11</th>\n",
       "      <td>81.629494</td>\n",
       "      <td>85.313636</td>\n",
       "      <td>81.527431</td>\n",
       "      <td>84.888356</td>\n",
       "      <td>201662400</td>\n",
       "      <td>3.786206</td>\n",
       "      <td>3.258862</td>\n",
       "      <td>-0.048010</td>\n",
       "      <td>1</td>\n",
       "    </tr>\n",
       "  </tbody>\n",
       "</table>\n",
       "</div>"
      ],
      "text/plain": [
       "                Close       High        Low       Open     Volume  High_Low  \\\n",
       "Date                                                                          \n",
       "2020-06-05  80.560219  80.620973  78.550469  78.579630  137250400  2.070504   \n",
       "2020-06-08  81.036537  81.070563  79.544415  80.256454   95654400  1.526148   \n",
       "2020-06-09  83.595505  83.989192  80.684163  80.715756  147712400  3.305029   \n",
       "2020-06-10  85.746208  86.215230  84.105842  84.545702  166651600  2.109388   \n",
       "2020-06-11  81.629494  85.313636  81.527431  84.888356  201662400  3.786206   \n",
       "\n",
       "            Open_Close  Daily_Return  Target  \n",
       "Date                                          \n",
       "2020-06-05   -1.980589      0.028481       1  \n",
       "2020-06-08   -0.780083      0.005913       1  \n",
       "2020-06-09   -2.879749      0.031578       1  \n",
       "2020-06-10   -1.200506      0.025728       0  \n",
       "2020-06-11    3.258862     -0.048010       1  "
      ]
     },
     "execution_count": 48,
     "metadata": {},
     "output_type": "execute_result"
    }
   ],
   "source": [
    "dataset.head()"
   ]
  },
  {
   "cell_type": "code",
   "execution_count": 49,
   "id": "6ebbd0bb",
   "metadata": {},
   "outputs": [],
   "source": [
    "dataest = dataset.dropna()"
   ]
  },
  {
   "cell_type": "code",
   "execution_count": null,
   "id": "35918a15",
   "metadata": {},
   "outputs": [],
   "source": []
  }
 ],
 "metadata": {
  "kernelspec": {
   "display_name": "Python 3",
   "language": "python",
   "name": "python3"
  },
  "language_info": {
   "codemirror_mode": {
    "name": "ipython",
    "version": 3
   },
   "file_extension": ".py",
   "mimetype": "text/x-python",
   "name": "python",
   "nbconvert_exporter": "python",
   "pygments_lexer": "ipython3",
   "version": "3.12.4"
  }
 },
 "nbformat": 4,
 "nbformat_minor": 5
}
